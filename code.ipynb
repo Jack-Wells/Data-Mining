{
 "cells": [
  {
   "cell_type": "code",
   "execution_count": 1,
   "metadata": {},
   "outputs": [
    {
     "name": "stderr",
     "output_type": "stream",
     "text": [
      "Using TensorFlow backend.\n"
     ]
    }
   ],
   "source": [
    "#Packages\n",
    "import random\n",
    "import numpy as np\n",
    "import matplotlib.pyplot as plt\n",
    "import sklearn\n",
    "\n",
    "from sklearn.model_selection import StratifiedKFold\n",
    "from sklearn.model_selection import train_test_split\n",
    "\n",
    "#metrics\n",
    "from sklearn.metrics import roc_curve\n",
    "from sklearn.metrics import roc_auc_score\n",
    "from sklearn.metrics import precision_recall_curve\n",
    "from sklearn.metrics import f1_score\n",
    "from sklearn.metrics import auc\n",
    "from sklearn.metrics import accuracy_score\n",
    "\n",
    "#Classifiers\n",
    "from sklearn.dummy import DummyClassifier\n",
    "from sklearn.neighbors import KNeighborsClassifier\n",
    "from sklearn.linear_model import Perceptron\n",
    "from sklearn.naive_bayes import GaussianNB\n",
    "from sklearn.linear_model import LogisticRegression\n",
    "from sklearn.svm import LinearSVC\n",
    "from sklearn.svm import SVC\n",
    "from sklearn.ensemble import AdaBoostClassifier\n",
    "import xgboost as xgb\n",
    "from sklearn.ensemble import RandomForestClassifier\n",
    "\n",
    "#Preprocessing \n",
    "from sklearn.preprocessing import MinMaxScaler, MaxAbsScaler\n",
    "from sklearn import preprocessing\n",
    "from sklearn.preprocessing import PolynomialFeatures\n",
    "from sklearn.preprocessing import FunctionTransformer\n",
    "from sklearn.preprocessing import MinMaxScaler\n",
    "\n",
    "#Decomposers\n",
    "from sklearn.decomposition import PCA\n",
    "from sklearn.decomposition import IncrementalPCA\n",
    "\n",
    "#Dataframe for visualisation\n",
    "import pandas as pd\n",
    "\n",
    "#Classifier for part 5 \n",
    "import cv2\n",
    "from keras.models import Sequential\n",
    "from keras.layers import Dense, Dropout, MaxPooling2D, Conv2D, Flatten, GlobalAveragePooling2D, InputLayer, Activation\n",
    "from keras.optimizers import Adam, RMSprop\n",
    "from keras.applications.vgg16 import VGG16\n",
    "from keras.applications.vgg16 import preprocess_input\n",
    "from keras.applications import VGG16\n",
    "from keras import models\n",
    "from keras import layers\n",
    "from keras import optimizers\n"
   ]
  },
  {
   "cell_type": "markdown",
   "metadata": {},
   "source": [
    "## Part 1"
   ]
  },
  {
   "cell_type": "markdown",
   "metadata": {},
   "source": [
    "Part 1.1 <br>\n",
    "Opening and preprocessing the files, there are 3000 training examples and 5000 testing examples."
   ]
  },
  {
   "cell_type": "code",
   "execution_count": 2,
   "metadata": {},
   "outputs": [
    {
     "name": "stdout",
     "output_type": "stream",
     "text": [
      "training count: 3000\n",
      "testing counts: 5000\n"
     ]
    }
   ],
   "source": [
    "Xtest = open('Xtest.csv','r')\n",
    "Ytrain = open('Ytrain.csv','r')\n",
    "Xtrain = open('Xtrain.csv','r')\n",
    "\n",
    "test_count = 0\n",
    "test_Lines = []\n",
    "for line in Xtest:\n",
    "    l=[]\n",
    "    test_count += 1\n",
    "    line = line.split()\n",
    "    for i in line:\n",
    "        l.append(int(i))\n",
    "    test_Lines.append(l)\n",
    "\n",
    "\n",
    "Y = []\n",
    "for line in Ytrain:\n",
    "    if line == '-1\\n':\n",
    "        Y.append(-1)\n",
    "    else:\n",
    "        Y.append(1)\n",
    "    \n",
    "train_count = 0\n",
    "train_Lines = []\n",
    "for line in Xtrain:\n",
    "    train_count += 1\n",
    "    l = []\n",
    "    line = line.split()\n",
    "    for i in line:\n",
    "        l.append(int(i))\n",
    "    train_Lines.append(l)\n",
    "\n",
    "\n",
    "print('training count:',train_count)\n",
    "print('testing counts:',test_count)"
   ]
  },
  {
   "cell_type": "markdown",
   "metadata": {},
   "source": [
    "This part of my code displays 10 randomly selected images."
   ]
  },
  {
   "cell_type": "code",
   "execution_count": 3,
   "metadata": {},
   "outputs": [
    {
     "name": "stdout",
     "output_type": "stream",
     "text": [
      "Image number: 1258\n"
     ]
    },
    {
     "data": {
      "image/png": "[encoded data removed]",
      "text/plain": [
       "<Figure size 432x288 with 1 Axes>"
      ]
     },
     "metadata": {
      "needs_background": "light"
     },
     "output_type": "display_data"
    },
    {
     "name": "stdout",
     "output_type": "stream",
     "text": [
      "Image number: 2649\n"
     ]
    },
    {
     "data": {
      "image/png": "[encoded data removed]",
      "text/plain": [
       "<Figure size 432x288 with 1 Axes>"
      ]
     },
     "metadata": {
      "needs_background": "light"
     },
     "output_type": "display_data"
    },
    {
     "name": "stdout",
     "output_type": "stream",
     "text": [
      "Image number: 396\n"
     ]
    },
    {
     "data": {
      "image/png": "[encoded data removed]",
      "text/plain": [
       "<Figure size 432x288 with 1 Axes>"
      ]
     },
     "metadata": {
      "needs_background": "light"
     },
     "output_type": "display_data"
    },
    {
     "name": "stdout",
     "output_type": "stream",
     "text": [
      "Image number: 2189\n"
     ]
    },
    {
     "data": {
      "image/png": "[encoded data removed]",
      "text/plain": [
       "<Figure size 432x288 with 1 Axes>"
      ]
     },
     "metadata": {
      "needs_background": "light"
     },
     "output_type": "display_data"
    },
    {
     "name": "stdout",
     "output_type": "stream",
     "text": [
      "Image number: 93\n"
     ]
    },
    {
     "data": {
      "image/png": "[encoded data removed]",
      "text/plain": [
       "<Figure size 432x288 with 1 Axes>"
      ]
     },
     "metadata": {
      "needs_background": "light"
     },
     "output_type": "display_data"
    },
    {
     "name": "stdout",
     "output_type": "stream",
     "text": [
      "Image number: 1217\n"
     ]
    },
    {
     "data": {
      "image/png": "[encoded data removed]",
      "text/plain": [
       "<Figure size 432x288 with 1 Axes>"
      ]
     },
     "metadata": {
      "needs_background": "light"
     },
     "output_type": "display_data"
    },
    {
     "name": "stdout",
     "output_type": "stream",
     "text": [
      "Image number: 1882\n"
     ]
    },
    {
     "data": {
      "image/png": "[encoded data removed]",
      "text/plain": [
       "<Figure size 432x288 with 1 Axes>"
      ]
     },
     "metadata": {
      "needs_background": "light"
     },
     "output_type": "display_data"
    },
    {
     "name": "stdout",
     "output_type": "stream",
     "text": [
      "Image number: 1545\n"
     ]
    },
    {
     "data": {
      "image/png": "[encoded data removed]",
      "text/plain": [
       "<Figure size 432x288 with 1 Axes>"
      ]
     },
     "metadata": {
      "needs_background": "light"
     },
     "output_type": "display_data"
    },
    {
     "name": "stdout",
     "output_type": "stream",
     "text": [
      "Image number: 992\n"
     ]
    },
    {
     "data": {
      "image/png": "[encoded data removed]",
      "text/plain": [
       "<Figure size 432x288 with 1 Axes>"
      ]
     },
     "metadata": {
      "needs_background": "light"
     },
     "output_type": "display_data"
    },
    {
     "name": "stdout",
     "output_type": "stream",
     "text": [
      "Image number: 1779\n"
     ]
    },
    {
     "data": {
      "image/png": "[encoded data removed]",
      "text/plain": [
       "<Figure size 432x288 with 1 Axes>"
      ]
     },
     "metadata": {
      "needs_background": "light"
     },
     "output_type": "display_data"
    }
   ],
   "source": [
    "for i in range(10):\n",
    "    number = int(random.random()*3000)\n",
    "    print('Image number:',number)\n",
    "    image = train_Lines[number]\n",
    "    image = np.reshape(image,(28,28))\n",
    "    plt.imshow(image)\n",
    "    plt.show()\n",
    "    "
   ]
  },
  {
   "cell_type": "markdown",
   "metadata": {},
   "source": [
    "Part 1.2<br>\n",
    "This counts the number of positive and negative examples in our training data. As can be seen there are 1179 positive examples and 1821 negative examples."
   ]
  },
  {
   "cell_type": "code",
   "execution_count": 4,
   "metadata": {},
   "outputs": [
    {
     "name": "stdout",
     "output_type": "stream",
     "text": [
      "number of positive: 1179\n",
      "number of negative: 1821\n"
     ]
    }
   ],
   "source": [
    "positive = 0\n",
    "negative = 0\n",
    "count=0\n",
    "for i in range(len(Y)):\n",
    "    if Y[i] == -1:\n",
    "        negative += 1\n",
    "    elif Y[i] == 1:\n",
    "        positive += 1\n",
    "    else:\n",
    "        print('Oh no')\n",
    "        break\n",
    "print('number of positive:', positive)\n",
    "print('number of negative:', negative)\n"
   ]
  },
  {
   "cell_type": "markdown",
   "metadata": {},
   "source": [
    "Part 1.3<br>\n",
    "The best metric to decide which method performs the best is accuracy.<br>\n",
    "The accuracy is useful when the class sizes are similar and there is no importance to which way round misclassification occurs.\n",
    "AUC_ROC is useful when there a class that has some significance i.e. if it's important to predict a class correctly for example in medical diagnosis, so over predicting positive so more tests can be carried out is better than totally missing a potential occurrence of an illness. AUC_ROC also works well on balanced data.\n",
    "AUC_PR is useful when there is a large difference in size between the classes. <br>\n",
    "\n",
    "As in this case it is an approximate 60% split in the data and no class should be predicted more over another hence I believe accuracy to be the best metric to measure the data by.\n"
   ]
  },
  {
   "cell_type": "markdown",
   "metadata": {},
   "source": [
    "Part 1.4/5<br>\n",
    "For a random class prediction for each of the training data you would expect that each of the predictions would have a 50% chance of being correct. This is because there are two possible categories for prediction 1 and -1, this is demonstrated with the code below that shows that the accuracy is approximately 50%. However, the AUC_ROC is approximatly 50% as would be expected with a totally random classifier. The AUC_PR is over 50% at 54.7% showing the imbalance in the data."
   ]
  },
  {
   "cell_type": "code",
   "execution_count": 5,
   "metadata": {},
   "outputs": [
    {
     "name": "stdout",
     "output_type": "stream",
     "text": [
      "Accuracy : 0.4803333333333333\n",
      "AUC_ROC : 0.49994883214785\n",
      "AUC_PR : 0.5365457001780662\n"
     ]
    }
   ],
   "source": [
    "#Using scikit-learns dummy clssifier that randomly assigns a value to each testing sample\n",
    "\n",
    "#Formats the data in a way that can be used by the classifiers\n",
    "X = np.array(train_Lines)\n",
    "y = np.array(Y)\n",
    "\n",
    "skf = StratifiedKFold(n_splits=5, random_state=1, shuffle = True) #can change these values\n",
    "skf.get_n_splits(X, y)\n",
    "ac=[]\n",
    "PR=[]\n",
    "ROC=[]\n",
    "for train_index, test_index in skf.split(X, y):\n",
    "\n",
    "    X_train, X_test = X[train_index], X[test_index]\n",
    "    y_train, y_test = y[train_index], y[test_index]\n",
    "\n",
    "#Using the last fold of a 5 fold stratified splitting for training and testing\n",
    "\n",
    "    model = DummyClassifier(strategy=\"uniform\")\n",
    "    model.fit(X_train, y_train)\n",
    "\n",
    "    ac.append(model.score(X_test, y_test))\n",
    "\n",
    "    pred = model.predict(X_test)\n",
    "    # calculate scores\n",
    "    auc_roc = roc_auc_score(y_test, pred)\n",
    "    ROC.append(auc_roc)\n",
    "\n",
    "    precision, recall, _ = precision_recall_curve(y_test, pred)\n",
    "    PR.append(auc(recall, precision))\n",
    "print('Accuracy :', np.mean(ac))\n",
    "print('AUC_ROC :', np.mean(ROC))\n",
    "print('AUC_PR :', np.mean(PR))"
   ]
  },
  {
   "cell_type": "markdown",
   "metadata": {},
   "source": [
    "## Part 2 \n",
    "Part 2.1 <br>\n",
    "This shows the accuracy and AUC_ROC and AUC_PR scores for each fold of the stratified k fold splitter with five folds."
   ]
  },
  {
   "cell_type": "code",
   "execution_count": 6,
   "metadata": {
    "scrolled": true
   },
   "outputs": [
    {
     "name": "stdout",
     "output_type": "stream",
     "text": [
      "StratifiedKFold(n_splits=5, random_state=None, shuffle=False)\n",
      "Accuracy : 0.7783333333333333\n",
      "AUC_ROC : 0.7696265598807971\n",
      "AUC_PR : 0.7745865860233959\n",
      "Accuracy : 0.7533333333333333\n",
      "AUC_ROC : 0.7400819519463588\n",
      "AUC_PR : 0.7471439703876874\n",
      "Accuracy : 0.74\n",
      "AUC_ROC : 0.7380331532873905\n",
      "AUC_PR : 0.743497688751926\n",
      "Accuracy : 0.7583333333333333\n",
      "AUC_ROC : 0.7576131495623021\n",
      "AUC_PR : 0.7613010340049035\n",
      "Accuracy : 0.74\n",
      "AUC_ROC : 0.730224424366074\n",
      "AUC_PR : 0.7354955783206374\n"
     ]
    }
   ],
   "source": [
    "#Formats the data in a way that can be used by the classifiers\n",
    "X = np.array(train_Lines)\n",
    "y = np.array(Y)\n",
    "\n",
    "#Splits the data using stratified 5 fold splitting\n",
    "skf = StratifiedKFold(n_splits=5)\n",
    "skf.get_n_splits(X, y)\n",
    "\n",
    "print(skf)\n",
    "\n",
    "accuracy = []\n",
    "ROC = []\n",
    "PR = []\n",
    "\n",
    "for train_index, test_index in skf.split(X, y):\n",
    "\n",
    "    X_train, X_test = X[train_index], X[test_index]\n",
    "    y_train, y_test = y[train_index], y[test_index]\n",
    "\n",
    "    model = KNeighborsClassifier(n_neighbors=1)\n",
    "    model.fit(X_train, y_train)\n",
    "    print('Accuracy :', model.score(X_test,y_test))\n",
    "    accuracy.append(model.score(X_test,y_test))\n",
    "    \n",
    "    pred = model.predict(X_test)\n",
    "    # calculate scores\n",
    "    auc_roc = roc_auc_score(y_test, pred)\n",
    "    print('AUC_ROC :', auc_roc)\n",
    "\n",
    "    precision, recall, _ = precision_recall_curve(y_test, pred)\n",
    "    print('AUC_PR :', auc(recall, precision))\n",
    "    \n",
    "    ROC.append(auc_roc)\n",
    "    PR.append(auc(recall, precision))\n",
    "    "
   ]
  },
  {
   "cell_type": "markdown",
   "metadata": {},
   "source": [
    "Part 2.2<br>\n",
    "Below are the mean and standard deviation of each performance metric over each of the folds."
   ]
  },
  {
   "cell_type": "code",
   "execution_count": 7,
   "metadata": {},
   "outputs": [
    {
     "name": "stdout",
     "output_type": "stream",
     "text": [
      "Accuracy mean:  0.7539999999999999\n",
      "AUC_ROC mean:  0.7471158478085845\n",
      "AUC_PR mean:  0.75240497149771\n",
      "Accuracy standard deviation:  0.01416568624058385\n",
      "AUC_ROC standard deviation:  0.014382049358744492\n",
      "AUC_PR standard deviation:  0.013886031451122695\n"
     ]
    }
   ],
   "source": [
    "print('Accuracy mean: ', np.mean(accuracy))\n",
    "print('AUC_ROC mean: ', np.mean(ROC))\n",
    "print('AUC_PR mean: ', np.mean(PR))\n",
    "print('Accuracy standard deviation: ', np.std(accuracy))\n",
    "print('AUC_ROC standard deviation: ', np.std(ROC))\n",
    "print('AUC_PR standard deviation: ', np.std(PR))"
   ]
  },
  {
   "cell_type": "markdown",
   "metadata": {},
   "source": [
    "Part 2.3 <br>\n",
    "Function transformer offers the best increase in performance going from 75% accuracy to 77% accuracy although the standard deviation does increase as do the standard deviations between AUC_ROC and AUC_PR, but both of these have higher values in using this type of transform.\n",
    "<br>\n",
    "The use of the standard scaler the accuracy increases to 76% and the AUC scores also increase by a small amount. These results are the same as using a quantile transformer with random state = 0. When I changed the distribution of the quantile transformer to the normal distribution a large decrease in accuracy happens taking the accuracy to 66%, a similar effect happens to the AUC scores decreasing 66% and 67% for the ROC and PR scores respectively.\n",
    "<br>\n",
    "Some transforms have very little to no effect on the accuracy such as the min max scaler, max abs scaler which produces accuracy of 75% and AUC_PR and ROC of 75% as well\n",
    "<br>\n",
    "Others have a substantial negative impact such as the Binarizer pre-processing decreasing the accuracy to just over 50%, and KBinsDiscretizer which has a minor negative effect in the accuracy decreasing to 73.5% similar decrease are had on the AUC scores.\n"
   ]
  },
  {
   "cell_type": "code",
   "execution_count": 165,
   "metadata": {
    "scrolled": true
   },
   "outputs": [
    {
     "name": "stdout",
     "output_type": "stream",
     "text": [
      "StratifiedKFold(n_splits=5, random_state=None, shuffle=False)\n",
      "Accuracy : 0.5216666666666666\n",
      "AUC_ROC : 0.5501955671447197\n",
      "AUC_PR : 0.5324060003896357\n",
      "Accuracy : 0.49\n",
      "AUC_ROC : 0.525074501769417\n",
      "AUC_PR : 0.5013002997809294\n",
      "Accuracy : 0.5166666666666667\n",
      "AUC_ROC : 0.5643974669398399\n",
      "AUC_PR : 0.5539090664514392\n",
      "Accuracy : 0.5133333333333333\n",
      "AUC_ROC : 0.543956043956044\n",
      "AUC_PR : 0.5225\n",
      "Accuracy : 0.48833333333333334\n",
      "AUC_ROC : 0.5375692218012241\n",
      "AUC_PR : 0.5103841084541518\n"
     ]
    }
   ],
   "source": [
    "#For different preprocessing uncomment/comment the 'preprocess'\n",
    "accuracy = []\n",
    "ROC = []\n",
    "PR = []\n",
    "\n",
    "X = np.array(train_Lines)\n",
    "y = np.array(Y)\n",
    "\n",
    "skf = StratifiedKFold(n_splits=5)\n",
    "skf.get_n_splits(X, y)\n",
    "\n",
    "print(skf)\n",
    "\n",
    "\n",
    "for train_index, test_index in skf.split(X, y):\n",
    "    #print(\"TRAIN:\", train_index, \"TEST:\", test_index)\n",
    "    X_train, X_test = X[train_index], X[test_index]\n",
    "    y_train, y_test = y[train_index], y[test_index]\n",
    "\n",
    "    #preprocess = MinMaxScaler(feature_range=[0, 1])\n",
    "\n",
    "    #preprocess = MaxAbsScaler()\n",
    "    \n",
    "    #preprocess= preprocessing.StandardScaler()\n",
    "    \n",
    "    #preprocess = preprocessing.QuantileTransformer(random_state=0)\n",
    "    \n",
    "    #preprocess = preprocessing.QuantileTransformer(output_distribution='normal', random_state=0)\n",
    "\n",
    "    #preprocess = preprocessing.KBinsDiscretizer(n_bins=2, encode='ordinal')\n",
    "    \n",
    "    preprocess = preprocessing.Binarizer()\n",
    "\n",
    "    #preprocess = FunctionTransformer(np.log1p, validate=True) #Function can be changed\n",
    "\n",
    "    X_train_pre = preprocess.fit_transform(X_train)\n",
    "    X_test_pre = preprocess.transform(X_test)\n",
    "\n",
    "    model = KNeighborsClassifier(n_neighbors=1, metric='euclidean')\n",
    "    model.fit(X_train_pre, y_train)\n",
    "\n",
    "    model.predict(X_test_pre)\n",
    "    score = model.score(X_test_pre,y_test)\n",
    "    accuracy.append(score)\n",
    "    print('Accuracy :', score)\n",
    "\n",
    "    pred = model.predict(X_test)\n",
    "    # calculate scores\n",
    "    auc_roc = roc_auc_score(y_test, pred)\n",
    "    print('AUC_ROC :', auc_roc)\n",
    "\n",
    "    precision, recall, _ = precision_recall_curve(y_test, pred)\n",
    "    print('AUC_PR :', auc(recall, precision))\n",
    "    \n",
    "    ROC.append(auc_roc)\n",
    "    PR.append(auc(recall, precision))\n",
    "    "
   ]
  },
  {
   "cell_type": "code",
   "execution_count": 166,
   "metadata": {},
   "outputs": [
    {
     "name": "stdout",
     "output_type": "stream",
     "text": [
      "Accuracy mean:  0.506\n",
      "AUC_ROC mean:  0.5442385603222489\n",
      "AUC_PR mean:  0.5240998950152311\n",
      "Accuracy standard deviation:  0.01400793425963379\n",
      "AUC_ROC standard deviation:  0.013066663524567318\n",
      "AUC_PR standard deviation:  0.018265169564506085\n"
     ]
    }
   ],
   "source": [
    "print('Accuracy mean: ', np.mean(accuracy))\n",
    "print('AUC_ROC mean: ', np.mean(ROC))\n",
    "print('AUC_PR mean: ', np.mean(PR))\n",
    "print('Accuracy standard deviation: ', np.std(accuracy))\n",
    "print('AUC_ROC standard deviation: ', np.std(ROC))\n",
    "print('AUC_PR standard deviation: ', np.std(PR))"
   ]
  },
  {
   "cell_type": "markdown",
   "metadata": {},
   "source": [
    "Part 2.4<br>\n",
    "As can be seen from the results using k=25 gives the optimal value for k. This gives an accuracy of 0.7713333333333334% this is the same as another vlaue of k however this value produces AUC_ROC and AUC_PR of 0.7797984416079896 and 0.7807829324326613 respectivly, which are higher than in the other joint highest accuracy k. These values for the AUC scores (AUC_ROC and AUC_PR) are also the highest for any value of k.\n"
   ]
  },
  {
   "cell_type": "code",
   "execution_count": 193,
   "metadata": {
    "scrolled": true
   },
   "outputs": [
    {
     "name": "stdout",
     "output_type": "stream",
     "text": [
      "StratifiedKFold(n_splits=5, random_state=None, shuffle=False)\n",
      "K = 1\n",
      "0.7539999999999999\n",
      "0.7471158478085845\n",
      "0.75240497149771\n",
      "0.01416568624058385\n",
      "0.014382049358744492\n",
      "0.013886031451122695\n",
      "K = 2\n",
      "0.7426666666666667\n",
      "0.7038499068917882\n",
      "0.7286632881093809\n",
      "0.005011098792790998\n",
      "0.008817733305634852\n",
      "0.005891296529289239\n",
      "K = 3\n",
      "0.7576666666666666\n",
      "0.7529854352949363\n",
      "0.7578531950334643\n",
      "0.017081503967091936\n",
      "0.014694478957810859\n",
      "0.014908729062526778\n",
      "K = 4\n",
      "0.752\n",
      "0.7276896162046017\n",
      "0.7407076763076794\n",
      "0.004876246279442599\n",
      "0.005465670661144899\n",
      "0.005558918305809071\n",
      "K = 5\n",
      "0.7583333333333334\n",
      "0.7562411425327312\n",
      "0.7602009107693969\n",
      "0.004082482904638616\n",
      "0.004488579836874696\n",
      "0.003933298638682046\n",
      "K = 6\n",
      "0.754\n",
      "0.736208060793965\n",
      "0.7452831997987862\n",
      "0.002260776661041769\n",
      "0.003995750434616622\n",
      "0.0025503091139390676\n",
      "K = 7\n",
      "0.762\n",
      "0.7622519090806985\n",
      "0.7655138717074135\n",
      "0.007986099033807285\n",
      "0.009742078708844722\n",
      "0.008565058051574221\n",
      "K = 8\n",
      "0.763\n",
      "0.7499081419891679\n",
      "0.7567178304985982\n",
      "0.010873004286866723\n",
      "0.01570401932848015\n",
      "0.013443473949531716\n",
      "K = 9\n",
      "0.766\n",
      "0.7662888162822956\n",
      "0.7689937187253106\n",
      "0.009695359714832624\n",
      "0.013351166230621528\n",
      "0.011843956046106809\n",
      "K = 10\n",
      "0.7646666666666666\n",
      "0.7547238866385333\n",
      "0.7602589224783993\n",
      "0.012355835328567091\n",
      "0.01585610689596852\n",
      "0.014093545299366293\n",
      "K = 11\n",
      "0.7643333333333333\n",
      "0.7664192117502167\n",
      "0.7691718152180573\n",
      "0.0076448966274531354\n",
      "0.008508827175141159\n",
      "0.0074888328619234995\n",
      "K = 12\n",
      "0.7663333333333333\n",
      "0.7587864913591466\n",
      "0.7634394473020848\n",
      "0.008781293248213006\n",
      "0.01284880826059403\n",
      "0.011103451233391726\n",
      "K = 13\n",
      "0.769\n",
      "0.7728054810046274\n",
      "0.7747140495861904\n",
      "0.005537749241945391\n",
      "0.007092877375934268\n",
      "0.006123957119554968\n",
      "K = 14\n",
      "0.7703333333333333\n",
      "0.7659757725935004\n",
      "0.7693281919094165\n",
      "0.012036980056845194\n",
      "0.014389116732422026\n",
      "0.01299010881456806\n",
      "K = 15\n",
      "0.7633333333333333\n",
      "0.7679822438354319\n",
      "0.7703188151312517\n",
      "0.0082999330653258\n",
      "0.010137083384164719\n",
      "0.008962754595555414\n",
      "K = 16\n",
      "0.7743333333333333\n",
      "0.7710654727455927\n",
      "0.7738329510242499\n",
      "0.011135528725660012\n",
      "0.014315793927319402\n",
      "0.012542654200331795\n",
      "K = 17\n",
      "0.7689999999999999\n",
      "0.774735612361496\n",
      "0.7762698657371198\n",
      "0.012229290885229404\n",
      "0.014714118109865296\n",
      "0.013037015871974061\n",
      "K = 18\n",
      "0.7643333333333333\n",
      "0.763425750035055\n",
      "0.7663386850832659\n",
      "0.015513435037626803\n",
      "0.018690183791581955\n",
      "0.01689198600346037\n",
      "K = 19\n",
      "0.765\n",
      "0.7713011790485867\n",
      "0.7732538992558987\n",
      "0.012780193008453867\n",
      "0.015652918954014036\n",
      "0.013835143107723175\n",
      "K = 20\n",
      "0.7656666666666667\n",
      "0.7663126935999646\n",
      "0.7688763505258656\n",
      "0.010572501018102478\n",
      "0.012710580713093587\n",
      "0.011389919997939717\n",
      "K = 21\n",
      "0.7706666666666666\n",
      "0.7776010772247972\n",
      "0.7788051301458914\n",
      "0.009580071908799937\n",
      "0.011742258220454065\n",
      "0.010401211201965781\n",
      "K = 22\n",
      "0.7713333333333334\n",
      "0.773069072813971\n",
      "0.7749310976151463\n",
      "0.012036980056845175\n",
      "0.013614995620770629\n",
      "0.01225324431718572\n",
      "K = 23\n",
      "0.7693333333333333\n",
      "0.7775536208896795\n",
      "0.7788332735098896\n",
      "0.013968217893171299\n",
      "0.015386423729362433\n",
      "0.01344622012457552\n",
      "K = 24\n",
      "0.771\n",
      "0.7739911896391947\n",
      "0.7757101614081612\n",
      "0.011575836902790236\n",
      "0.012311732327672822\n",
      "0.011045993628114713\n",
      "K = 25\n",
      "0.7713333333333334\n",
      "0.7797984416079896\n",
      "0.7807829324326613\n",
      "0.014157840387730167\n",
      "0.0158498770851569\n",
      "0.013873300979329982\n",
      "K = 26\n",
      "0.7696666666666666\n",
      "0.7739386217574372\n",
      "0.7755710810787997\n",
      "0.010873004286866743\n",
      "0.01212214751130161\n",
      "0.010840192483392496\n",
      "K = 27\n",
      "0.7673333333333333\n",
      "0.7760575812254673\n",
      "0.7775966791874878\n",
      "0.009695359714832645\n",
      "0.010950264402737197\n",
      "0.009544551224392355\n",
      "K = 28\n",
      "0.767\n",
      "0.7709924934201594\n",
      "0.7729777831782505\n",
      "0.005416025603090618\n",
      "0.006216462402263641\n",
      "0.0055722686604412165\n",
      "K = 29\n",
      "0.764\n",
      "0.7725558403627504\n",
      "0.7745796897996502\n",
      "0.006716480559869955\n",
      "0.008023818085186292\n",
      "0.007066965046188077\n",
      "K = 30\n",
      "0.7676666666666667\n",
      "0.7721405138982659\n",
      "0.7739850368926247\n",
      "0.007930251502246884\n",
      "0.008966000243792769\n",
      "0.007989537888568196\n",
      "K = 31\n",
      "0.7683333333333333\n",
      "0.7773131352688629\n",
      "0.7786825654875041\n",
      "0.007745966692414797\n",
      "0.00966435954714963\n",
      "0.008679332125054739\n",
      "K = 32\n",
      "0.771\n",
      "0.775483780800855\n",
      "0.7770041187088857\n",
      "0.0034318767136623284\n",
      "0.004469819142119875\n",
      "0.004144647933185882\n",
      "K = 33\n",
      "0.7696666666666667\n",
      "0.7785712629998776\n",
      "0.7797721164052323\n",
      "0.007257180352359065\n",
      "0.009647787215495762\n",
      "0.008654345606606403\n",
      "K = 34\n",
      "0.7696666666666667\n",
      "0.7758764204342655\n",
      "0.7773214995719651\n",
      "0.004876246279442574\n",
      "0.006836267974651975\n",
      "0.006270064863455892\n",
      "K = 35\n",
      "0.7673333333333332\n",
      "0.7763555883031353\n",
      "0.7778897222215696\n",
      "0.004898979485566345\n",
      "0.006665727698893931\n",
      "0.005900899185881084\n",
      "K = 36\n",
      "0.7683333333333333\n",
      "0.7740394162891681\n",
      "0.7756874353081742\n",
      "0.005773502691896231\n",
      "0.00741138268138911\n",
      "0.006617188728158601\n",
      "K = 37\n",
      "0.768\n",
      "0.7765990666975952\n",
      "0.7780576809192019\n",
      "0.005312459150169715\n",
      "0.006933583566514106\n",
      "0.006293964688414755\n",
      "K = 38\n",
      "0.7666666666666667\n",
      "0.7716143451517583\n",
      "0.7735154416787546\n",
      "0.0074535599249992935\n",
      "0.009925281439733197\n",
      "0.008849610391567673\n",
      "K = 39\n",
      "0.7663333333333334\n",
      "0.7750720779104805\n",
      "0.7767568040898303\n",
      "0.007257180352359083\n",
      "0.009298795408944238\n",
      "0.008368729753967744\n"
     ]
    }
   ],
   "source": [
    "#Part 2.4\n",
    "X = np.array(train_Lines)\n",
    "y = np.array(Y)\n",
    "\n",
    "\n",
    "skf = StratifiedKFold(n_splits=5)\n",
    "skf.get_n_splits(X, y)\n",
    "\n",
    "print(skf)\n",
    "\n",
    "\n",
    "for k in range(1,40):\n",
    "    accuracy = []\n",
    "    ROC = []\n",
    "    PR = []\n",
    "    for train_index, test_index in skf.split(X, y):\n",
    "\n",
    "        X_train, X_test = X[train_index], X[test_index]\n",
    "        y_train, y_test = y[train_index], y[test_index]\n",
    "\n",
    "        model = KNeighborsClassifier(n_neighbors=k)\n",
    "        model.fit(X_train, y_train)\n",
    "        x=model.score(X_test,y_test)\n",
    "        #print('k=',k,'Accuracy :', x)\n",
    "        accuracy.append(x)\n",
    "\n",
    "        pred = model.predict(X_test)\n",
    "        # calculate scores\n",
    "        auc_roc = roc_auc_score(y_test, pred)\n",
    "\n",
    "        precision, recall, _ = precision_recall_curve(y_test, pred)\n",
    "        \n",
    "        ROC.append(auc_roc)\n",
    "        PR.append(auc(recall, precision))\n",
    "    \n",
    "    print('K =',k)\n",
    "    print('Accuracy mean: ', np.mean(accuracy))\n",
    "    print('AUC_ROC mean: ', np.mean(ROC))\n",
    "    print('AUC_PR mean: ', np.mean(PR))\n",
    "    print('Accuracy standard deviation: ', np.std(accuracy))\n",
    "    print('AUC_ROC standard deviation: ', np.std(ROC))\n",
    "    print('AUC_PR standard deviation: ', np.std(PR))"
   ]
  },
  {
   "cell_type": "markdown",
   "metadata": {},
   "source": [
    "## Part 3"
   ]
  },
  {
   "cell_type": "markdown",
   "metadata": {},
   "source": [
    "In this question I have tuned the hyperparamers of six classifiers, and used some preprocessing in an efort to achive the highest accuracy, AUC_ROC and AUC_PR score. "
   ]
  },
  {
   "cell_type": "markdown",
   "metadata": {},
   "source": [
    "For the KNN classifier the best proformance occoured when using a combination of preprocessing and then testing with different values of k, where I found that 15 gave the highest accuracy from m transform."
   ]
  },
  {
   "cell_type": "code",
   "execution_count": 8,
   "metadata": {
    "scrolled": true
   },
   "outputs": [
    {
     "name": "stdout",
     "output_type": "stream",
     "text": [
      "StratifiedKFold(n_splits=5, random_state=None, shuffle=False)\n",
      "KNN\n",
      "Accuracy : 0.7783333333333333\n",
      "AUC_ROC : 0.781546842987521\n",
      "AUC_PR : 0.782627429068107\n",
      "Accuracy : 0.7583333333333333\n",
      "AUC_ROC : 0.7620832557273236\n",
      "AUC_PR : 0.7652938057068266\n",
      "Accuracy : 0.7883333333333333\n",
      "AUC_ROC : 0.801708884336003\n",
      "AUC_PR : 0.8000071802429946\n",
      "Accuracy : 0.7733333333333333\n",
      "AUC_ROC : 0.7804060346433228\n",
      "AUC_PR : 0.7814744966977003\n",
      "Accuracy : 0.7783333333333333\n",
      "AUC_ROC : 0.7890119498688429\n",
      "AUC_PR : 0.7881443699601671\n",
      "Accuracy mean:  0.7753333333333334\n",
      "AUC_ROC mean:  0.7829513935126028\n",
      "AUC_PR mean:  0.7835094563351591\n",
      "Accuracy standard deviation:  0.009797958971132722\n",
      "AUC_ROC standard deviation:  0.012903523502620756\n",
      "AUC_PR standard deviation:  0.01122841288063305\n"
     ]
    }
   ],
   "source": [
    "X = np.array(train_Lines)\n",
    "y = np.array(Y)\n",
    "\n",
    "skf = StratifiedKFold(n_splits=5)\n",
    "skf.get_n_splits(X, y)\n",
    "\n",
    "print(skf)\n",
    "ac=[]\n",
    "ROC = []\n",
    "PR = []\n",
    "\n",
    "print('KNN')\n",
    "for train_index, test_index in skf.split(X, y):\n",
    "    X_train, X_test = X[train_index], X[test_index]\n",
    "    y_train, y_test = y[train_index], y[test_index]\n",
    "    \n",
    "    preprocess = FunctionTransformer(np.log1p, validate=True) \n",
    "\n",
    "    X_train = preprocess.fit_transform(X_train)\n",
    "    X_test = preprocess.transform(X_test)\n",
    "\n",
    "\n",
    "    model = KNeighborsClassifier(n_neighbors=15, weights='uniform', algorithm='auto', leaf_size=30, p=1, \n",
    "                                metric='minkowski', metric_params=None, n_jobs=None)\n",
    "    model.fit(X_train, y_train)\n",
    "    x=model.score(X_test,y_test)\n",
    "    print('Accuracy :', x)\n",
    "    ac.append(x)\n",
    "    \n",
    "    pred = model.predict(X_test)\n",
    "    # calculate scores\n",
    "    auc_roc = roc_auc_score(y_test, pred)\n",
    "    print('AUC_ROC :', auc_roc)\n",
    "\n",
    "    precision, recall, _ = precision_recall_curve(y_test, pred)\n",
    "    print('AUC_PR :', auc(recall, precision))\n",
    "    \n",
    "    ROC.append(auc_roc)\n",
    "    PR.append(auc(recall, precision))\n",
    "    \n",
    "print('Accuracy mean: ', np.mean(ac))\n",
    "print('AUC_ROC mean: ', np.mean(ROC))\n",
    "print('AUC_PR mean: ', np.mean(PR))\n",
    "print('Accuracy standard deviation: ', np.std(ac))\n",
    "print('AUC_ROC standard deviation: ', np.std(ROC))\n",
    "print('AUC_PR standard deviation: ', np.std(PR))\n",
    "#77.5 k=15 function transform\n",
    "#18 77.366666"
   ]
  },
  {
   "cell_type": "markdown",
   "metadata": {},
   "source": [
    "The perceptron model didn't respond well to different forms of preprocessing. However, changing n_iter_no_change and the validation fraction, I was able to increase the accuracy to 67%."
   ]
  },
  {
   "cell_type": "code",
   "execution_count": 15,
   "metadata": {
    "scrolled": true
   },
   "outputs": [
    {
     "name": "stdout",
     "output_type": "stream",
     "text": [
      "StratifiedKFold(n_splits=5, random_state=None, shuffle=False)\n",
      "Perceptron\n",
      "Accuracy : 0.63\n",
      "AUC_ROC : 0.6406686533805178\n",
      "AUC_PR : 0.6673902651021295\n",
      "Accuracy : 0.6716666666666666\n",
      "AUC_ROC : 0.6608539765319427\n",
      "AUC_PR : 0.6709080389354026\n",
      "Accuracy : 0.6283333333333333\n",
      "AUC_ROC : 0.5826736822499534\n",
      "AUC_PR : 0.5786750359686985\n",
      "Accuracy : 0.6916666666666667\n",
      "AUC_ROC : 0.71160830694729\n",
      "AUC_PR : 0.7296295056067864\n",
      "Accuracy : 0.7116666666666667\n",
      "AUC_ROC : 0.7039055668901195\n",
      "AUC_PR : 0.7105504896994258\n",
      "Accuracy mean:  0.6666666666666667\n",
      "AUC_ROC mean:  0.6599420371999647\n",
      "AUC_PR mean:  0.6714306670624886\n",
      "Accuracy standard deviation:  0.03313272970610447\n",
      "AUC_ROC standard deviation:  0.04678651302736371\n",
      "AUC_PR standard deviation:  0.052033970478560336\n"
     ]
    }
   ],
   "source": [
    "X = np.array(train_Lines)\n",
    "y = np.array(Y)\n",
    "\n",
    "skf = StratifiedKFold(n_splits=5)\n",
    "skf.get_n_splits(X, y)\n",
    "\n",
    "print(skf)\n",
    "ac=[]\n",
    "ROC = []\n",
    "PR = []\n",
    "\n",
    "print('Perceptron')\n",
    "for train_index, test_index in skf.split(X, y):\n",
    "    X_train, X_test = X[train_index], X[test_index]\n",
    "    y_train, y_test = y[train_index], y[test_index]\n",
    "    \n",
    "    model = Perceptron(penalty=None, alpha=0.0001, fit_intercept=True, max_iter=1000, tol=0.001, shuffle=True, \n",
    "                       verbose=0, eta0=5.0, n_jobs=None, random_state=0, early_stopping=False, validation_fraction=0.1,\n",
    "                       n_iter_no_change=15, class_weight=None, warm_start=False)\n",
    "    model.fit(X_train, y_train)\n",
    "    x=model.score(X_test,y_test)\n",
    "    print('Accuracy :', x)\n",
    "    ac.append(x)\n",
    "    \n",
    "    pred = model.predict(X_test)\n",
    "    # calculate scores\n",
    "    auc_roc = roc_auc_score(y_test, pred)\n",
    "    print('AUC_ROC :', auc_roc)\n",
    "\n",
    "    precision, recall, _ = precision_recall_curve(y_test, pred)\n",
    "    print('AUC_PR :', auc(recall, precision))\n",
    "    \n",
    "    ROC.append(auc_roc)\n",
    "    PR.append(auc(recall, precision))\n",
    "    \n",
    "    \n",
    "print('Accuracy mean: ', np.mean(ac))\n",
    "print('AUC_ROC mean: ', np.mean(ROC))\n",
    "print('AUC_PR mean: ', np.mean(PR))\n",
    "print('Accuracy standard deviation: ', np.std(ac))\n",
    "print('AUC_ROC standard deviation: ', np.std(ROC))\n",
    "print('AUC_PR standard deviation: ', np.std(PR))"
   ]
  },
  {
   "cell_type": "markdown",
   "metadata": {},
   "source": [
    "The Naive Bayes model only has two parameters that can be tuned, I found that changing the var_smoothing to 0.1, gave me the best improvement to the models accuracy."
   ]
  },
  {
   "cell_type": "code",
   "execution_count": 10,
   "metadata": {
    "scrolled": true
   },
   "outputs": [
    {
     "name": "stdout",
     "output_type": "stream",
     "text": [
      "StratifiedKFold(n_splits=5, random_state=None, shuffle=False)\n",
      "Gaussian\n",
      "Accuracy : 0.6733333333333333\n",
      "AUC_ROC : 0.652542372881356\n",
      "AUC_PR : 0.6600874179264009\n",
      "Accuracy : 0.6466666666666666\n",
      "AUC_ROC : 0.6380145278450363\n",
      "AUC_PR : 0.651151294179477\n",
      "Accuracy : 0.6683333333333333\n",
      "AUC_ROC : 0.6640668653380517\n",
      "AUC_PR : 0.6766780930616391\n",
      "Accuracy : 0.6833333333333333\n",
      "AUC_ROC : 0.6771745203948594\n",
      "AUC_PR : 0.6875499782703173\n",
      "Accuracy : 0.6816666666666666\n",
      "AUC_ROC : 0.6792480326435442\n",
      "AUC_PR : 0.68978329393223\n",
      "Accuracy mean:  0.6706666666666667\n",
      "AUC_ROC mean:  0.6622092638205694\n",
      "AUC_PR mean:  0.6730500154740129\n",
      "Accuracy standard deviation:  0.013190905958272938\n",
      "AUC_ROC standard deviation:  0.015469733417814671\n",
      "AUC_PR standard deviation:  0.015172326160173296\n"
     ]
    }
   ],
   "source": [
    "X = np.array(train_Lines)\n",
    "y = np.array(Y)\n",
    "\n",
    "skf = StratifiedKFold(n_splits=5)\n",
    "skf.get_n_splits(X, y)\n",
    "\n",
    "print(skf)\n",
    "ac=[]\n",
    "ROC = []\n",
    "PR = []\n",
    "\n",
    "print('Gaussian')\n",
    "for train_index, test_index in skf.split(X, y):\n",
    "    X_train, X_test = X[train_index], X[test_index]\n",
    "    y_train, y_test = y[train_index], y[test_index]\n",
    "\n",
    "    model = GaussianNB(priors=None, var_smoothing=0.1)\n",
    "    model.fit(X_train, y_train)\n",
    "    x=model.score(X_test,y_test)\n",
    "    print('Accuracy :', x)\n",
    "    ac.append(x)\n",
    "    \n",
    "    pred = model.predict(X_test)\n",
    "    # calculate scores\n",
    "    auc_roc = roc_auc_score(y_test, pred)\n",
    "    print('AUC_ROC :', auc_roc)\n",
    "\n",
    "    precision, recall, _ = precision_recall_curve(y_test, pred)\n",
    "    print('AUC_PR :', auc(recall, precision))\n",
    "    \n",
    "    ROC.append(auc_roc)\n",
    "    PR.append(auc(recall, precision))\n",
    "    \n",
    "print('Accuracy mean: ', np.mean(ac))\n",
    "print('AUC_ROC mean: ', np.mean(ROC))\n",
    "print('AUC_PR mean: ', np.mean(PR))\n",
    "print('Accuracy standard deviation: ', np.std(ac))\n",
    "print('AUC_ROC standard deviation: ', np.std(ROC))\n",
    "print('AUC_PR standard deviation: ', np.std(PR))"
   ]
  },
  {
   "cell_type": "markdown",
   "metadata": {},
   "source": [
    "For the logistic regression model, there where problems with convergence until I changed the value of the dual to equal false this is useful on data that has more data than labels for the data. This and the use of some preprocessing improved the accuracy, and fine tuning c I found my most accurate model with c=2. Using the lbfgs solver was by far the best offering speed and it converged quickly unlike some others."
   ]
  },
  {
   "cell_type": "code",
   "execution_count": 17,
   "metadata": {
    "scrolled": true
   },
   "outputs": [
    {
     "name": "stdout",
     "output_type": "stream",
     "text": [
      "StratifiedKFold(n_splits=5, random_state=None, shuffle=False)\n",
      "Logistic regresion\n",
      "Accuracy : 0.69\n",
      "AUC_ROC : 0.6722387781709815\n",
      "AUC_PR : 0.6801494201605709\n",
      "Accuracy : 0.67\n",
      "AUC_ROC : 0.6565002793816352\n",
      "AUC_PR : 0.6658663678386327\n",
      "Accuracy : 0.6416666666666667\n",
      "AUC_ROC : 0.6204833302290931\n",
      "AUC_PR : 0.6280932203389831\n",
      "Accuracy : 0.6866666666666666\n",
      "AUC_ROC : 0.676941702365431\n",
      "AUC_PR : 0.6861779661016949\n",
      "Accuracy : 0.6833333333333333\n",
      "AUC_ROC : 0.6677353541241622\n",
      "AUC_PR : 0.6749113475177305\n",
      "Accuracy mean:  0.6743333333333332\n",
      "AUC_ROC mean:  0.6587798888542606\n",
      "AUC_PR mean:  0.6670396643915224\n",
      "Accuracy standard deviation:  0.0176886655485621\n",
      "AUC_ROC standard deviation:  0.020312639177286977\n",
      "AUC_PR standard deviation:  0.02058303093838087\n"
     ]
    }
   ],
   "source": [
    "X = np.array(train_Lines)\n",
    "y = np.array(Y)\n",
    "\n",
    "skf = StratifiedKFold(n_splits=5)\n",
    "skf.get_n_splits(X, y)\n",
    "\n",
    "print(skf)\n",
    "ac=[]\n",
    "ROC = []\n",
    "PR = []\n",
    "\n",
    "print('Logistic regresion')\n",
    "for train_index, test_index in skf.split(X, y):\n",
    "    X_train, X_test = X[train_index], X[test_index]\n",
    "    y_train, y_test = y[train_index], y[test_index]\n",
    "\n",
    "    X_train = preprocess.fit_transform(X_train)\n",
    "    X_test = preprocess.transform(X_test)\n",
    "    \n",
    "    preprocess = preprocessing.QuantileTransformer(random_state=0)\n",
    "\n",
    "    X_train = preprocess.fit_transform(X_train)\n",
    "    X_test = preprocess.transform(X_test)\n",
    "\n",
    "    model = LogisticRegression(penalty='l2', dual=False, tol=0.0001, C=2.0, fit_intercept=True, intercept_scaling=1.0, \n",
    "                               class_weight=None, random_state=None, solver='lbfgs', max_iter=1000, multi_class='ovr', \n",
    "                               verbose=0, warm_start=False, n_jobs=None, l1_ratio=None)\n",
    "    model.fit(X_train, y_train)\n",
    "    x=model.score(X_test,y_test)\n",
    "    print('Accuracy :', x)\n",
    "    ac.append(x)\n",
    "    \n",
    "    pred = model.predict(X_test)\n",
    "    # calculate scores\n",
    "    auc_roc = roc_auc_score(y_test, pred)\n",
    "    print('AUC_ROC :', auc_roc)\n",
    "\n",
    "    precision, recall, _ = precision_recall_curve(y_test, pred)\n",
    "    print('AUC_PR :', auc(recall, precision))\n",
    "    \n",
    "    ROC.append(auc_roc)\n",
    "    PR.append(auc(recall, precision))\n",
    "    \n",
    "print('Accuracy mean: ', np.mean(ac))\n",
    "print('AUC_ROC mean: ', np.mean(ROC))\n",
    "print('AUC_PR mean: ', np.mean(PR))\n",
    "print('Accuracy standard deviation: ', np.std(ac))\n",
    "print('AUC_ROC standard deviation: ', np.std(ROC))\n",
    "print('AUC_PR standard deviation: ', np.std(PR))"
   ]
  },
  {
   "cell_type": "markdown",
   "metadata": {},
   "source": [
    "I found that the linear SVM model had the best accuracy when I changed c to be 15 and again using dual equal false and multi-class 'ovr' to give an accuracy of 65.13%."
   ]
  },
  {
   "cell_type": "code",
   "execution_count": 18,
   "metadata": {
    "scrolled": true
   },
   "outputs": [
    {
     "name": "stdout",
     "output_type": "stream",
     "text": [
      "StratifiedKFold(n_splits=5, random_state=None, shuffle=False)\n",
      "linear SVM\n",
      "Accuracy : 0.65\n",
      "AUC_ROC : 0.631076550568076\n",
      "AUC_PR : 0.6394473102431835\n",
      "Accuracy : 0.6433333333333333\n",
      "AUC_ROC : 0.62409200968523\n",
      "AUC_PR : 0.6325288626873004\n",
      "Accuracy : 0.6166666666666667\n",
      "AUC_ROC : 0.596153846153846\n",
      "AUC_PR : 0.6048550724637681\n",
      "Accuracy : 0.6666666666666666\n",
      "AUC_ROC : 0.6470478673868505\n",
      "AUC_PR : 0.6548653817309135\n",
      "Accuracy : 0.68\n",
      "AUC_ROC : 0.6642378315359952\n",
      "AUC_PR : 0.6714893617021276\n",
      "Accuracy mean:  0.6513333333333333\n",
      "AUC_ROC mean:  0.6325216210659995\n",
      "AUC_PR mean:  0.6406371977654586\n",
      "Accuracy standard deviation:  0.021561282171728306\n",
      "AUC_ROC standard deviation:  0.022859096515772146\n",
      "AUC_PR standard deviation:  0.022368811589761135\n"
     ]
    }
   ],
   "source": [
    "X = np.array(train_Lines)\n",
    "y = np.array(Y)\n",
    "\n",
    "skf = StratifiedKFold(n_splits=5)\n",
    "skf.get_n_splits(X, y)\n",
    "\n",
    "print(skf)\n",
    "ac=[]\n",
    "ROC = []\n",
    "PR = []\n",
    "\n",
    "print('linear SVM')\n",
    "for train_index, test_index in skf.split(X, y):\n",
    "    X_train, X_test = X[train_index], X[test_index]\n",
    "    y_train, y_test = y[train_index], y[test_index]\n",
    "\n",
    "    model = LinearSVC(penalty='l2', loss='squared_hinge', tol=0.0001, C=15.0, multi_class='ovr',\n",
    "                      intercept_scaling=15,dual=False,\n",
    "                      class_weight=None, verbose=0, random_state=None, max_iter=5000)\n",
    "    model.fit(X_train, y_train)\n",
    "    x=model.score(X_test,y_test)\n",
    "    print('Accuracy :', x)\n",
    "    ac.append(x)\n",
    "    \n",
    "    pred = model.predict(X_test)\n",
    "    # calculate scores\n",
    "    auc_roc = roc_auc_score(y_test, pred)\n",
    "    print('AUC_ROC :', auc_roc)\n",
    "\n",
    "    precision, recall, _ = precision_recall_curve(y_test, pred)\n",
    "    print('AUC_PR :', auc(recall, precision))\n",
    "    \n",
    "    ROC.append(auc_roc)\n",
    "    PR.append(auc(recall, precision))\n",
    "     \n",
    "print('Accuracy mean: ', np.mean(ac))\n",
    "print('AUC_ROC mean: ', np.mean(ROC))\n",
    "print('AUC_PR mean: ', np.mean(PR))\n",
    "print('Accuracy standard deviation: ', np.std(ac))\n",
    "print('AUC_ROC standard deviation: ', np.std(ROC))\n",
    "print('AUC_PR standard deviation: ', np.std(PR))\n",
    "#is = 5.5 2.5 65% accuracy\n",
    "#65.1 c=2\n"
   ]
  },
  {
   "cell_type": "markdown",
   "metadata": {},
   "source": [
    "This model I found to be my most accurate model on all metrics, using the rbf kernal gave a significant improvement over the other avaliable kernals, some parameters didn't affect the accuracy such as probability and changing the degree didn't make a differance."
   ]
  },
  {
   "cell_type": "code",
   "execution_count": 19,
   "metadata": {
    "scrolled": true
   },
   "outputs": [
    {
     "name": "stdout",
     "output_type": "stream",
     "text": [
      "StratifiedKFold(n_splits=5, random_state=None, shuffle=False)\n",
      "Kernal SVM\n",
      "Accuracy : 0.775\n",
      "AUC_ROC : 0.7624092009685229\n",
      "AUC_PR : 0.7693356078949299\n",
      "Accuracy : 0.7916666666666666\n",
      "AUC_ROC : 0.7850856770348296\n",
      "AUC_PR : 0.788717283523579\n",
      "Accuracy : 0.8\n",
      "AUC_ROC : 0.8008940212330043\n",
      "AUC_PR : 0.800724191063174\n",
      "Accuracy : 0.8016666666666666\n",
      "AUC_ROC : 0.7992875768299498\n",
      "AUC_PR : 0.8004403456297774\n",
      "Accuracy : 0.7983333333333333\n",
      "AUC_ROC : 0.7963567473039931\n",
      "AUC_PR : 0.7966118129432624\n",
      "Accuracy mean:  0.7933333333333333\n",
      "AUC_ROC mean:  0.7888066446740599\n",
      "AUC_PR mean:  0.7911658482109445\n",
      "Accuracy standard deviation:  0.009775252199076781\n",
      "AUC_ROC standard deviation:  0.01430824444169027\n",
      "AUC_PR standard deviation:  0.011743863194038985\n"
     ]
    }
   ],
   "source": [
    "X = np.array(train_Lines)\n",
    "y = np.array(Y)\n",
    "\n",
    "skf = StratifiedKFold(n_splits=5)\n",
    "skf.get_n_splits(X, y)\n",
    "\n",
    "print(skf)\n",
    "ac=[]\n",
    "PR=[]\n",
    "ROC=[]\n",
    "print('Kernal SVM')\n",
    "for train_index, test_index in skf.split(X, y):\n",
    "    X_train, X_test = X[train_index], X[test_index]\n",
    "    y_train, y_test = y[train_index], y[test_index]\n",
    "    \n",
    "    model = SVC(C=2.0, kernel='rbf', degree=3, gamma='scale', coef0=0.0, shrinking=True, probability=False, tol=0.001, \n",
    "                cache_size=200, class_weight=None, verbose=False, max_iter=-1, decision_function_shape='ovr', \n",
    "                break_ties=False, random_state=None)\n",
    "    model.fit(X_train, y_train)\n",
    "    x=model.score(X_test,y_test)\n",
    "    ac.append(x)\n",
    "    print('Accuracy :',x)\n",
    "    \n",
    "    pred = model.predict(X_test)\n",
    "    # calculate scores\n",
    "    auc_roc = roc_auc_score(y_test, pred)\n",
    "    print('AUC_ROC :', auc_roc)\n",
    "\n",
    "    precision, recall, _ = precision_recall_curve(y_test, pred)\n",
    "    print('AUC_PR :', auc(recall, precision))\n",
    "    \n",
    "    ROC.append(auc_roc)\n",
    "    PR.append(auc(recall, precision))\n",
    "    \n",
    "print('Accuracy mean: ', np.mean(ac))\n",
    "print('AUC_ROC mean: ', np.mean(ROC))\n",
    "print('AUC_PR mean: ', np.mean(PR))\n",
    "print('Accuracy standard deviation: ', np.std(ac))\n",
    "print('AUC_ROC standard deviation: ', np.std(ROC))\n",
    "print('AUC_PR standard deviation: ', np.std(PR))\n",
    "#c=1 78.53\n",
    "#c=15 78.4\n",
    "#c=3 79.2\n",
    "#c=2 79.333"
   ]
  },
  {
   "cell_type": "markdown",
   "metadata": {},
   "source": [
    "The table below shows how well the best proforming hyperparamater optimization for each of the classifiers. The best classifier for accuracy was the kernal SVM model it also has the greatest AUC_ROC and AUC_PR scores, hence the best classifier was the kernal SVM. The values can be seen in the table below that compares all of the best models. \n",
    "\n",
    "## Table\n",
    "|model | Mean accuracy | Mean AUC_ROC | Mean AUC_PR | Std accuracy | Std AUC_ROC | Std AUC_PR | \n",
    "| --- | --- | --- | --- | --- | --- | --- | \n",
    "| KNN | 0.7753333333333334 | 0.7829513935126028 | 0.7835094563351591 | 0.009797958971132722 | 0.012903523502620756 | 0.01122841288063305 | \n",
    "| Perceptron | 0.6666666666666667 | 0.6599420371999647 | 0.6714306670624886 | 0.03313272970610447 | 0.04678651302736371 | 0.052033970478560336 | \n",
    "| Naive Bayes | 0.6706666666666667 | 0.6622092638205694 | 0.6730500154740129 | 0.013190905958272938 | 0.015469733417814671 | 0.015172326160173296 | \n",
    "| Logistic Regression | 0.6743333333333332 | 0.6587798888542606 | 0.6670396643915224 | 0.0176886655485621 | 0.020312639177286977 | 0.02058303093838087 | \n",
    "| Linear SVM | 0.6513333333333333 | 0.6325216210659995 | 0.6406371977654586 | 0.021561282171728306 | 0.022859096515772146 | 0.022368811589761135 |\n",
    "| Kernal SVM | 0.7933333333333333 | 0.7888066446740599 | 0.7911658482109445 | 0.009775252199076781 | 0.01430824444169027 | 0.011743863194038985 |"
   ]
  },
  {
   "cell_type": "markdown",
   "metadata": {},
   "source": [
    "## Part 4"
   ]
  },
  {
   "cell_type": "markdown",
   "metadata": {},
   "source": [
    "Part 4.1 <br>\n",
    "Plots of the 2D data where green represents the '1' class and where yellow represents the '-1' class. The first plot show the all the data, but a clearer picture of the density of the data can be seen on the individual graphs. Where the '-1' class is distributed more centrally and the '1' class is concentrated towards the left hand side of the graph."
   ]
  },
  {
   "cell_type": "code",
   "execution_count": 11,
   "metadata": {},
   "outputs": [
    {
     "data": {
      "image/png": "[encoded data removed]",
      "text/plain": [
       "<Figure size 432x288 with 1 Axes>"
      ]
     },
     "metadata": {
      "needs_background": "light"
     },
     "output_type": "display_data"
    },
    {
     "data": {
      "image/png": "[encoded data removed]",
      "text/plain": [
       "<Figure size 432x288 with 1 Axes>"
      ]
     },
     "metadata": {
      "needs_background": "light"
     },
     "output_type": "display_data"
    },
    {
     "data": {
      "image/png": "[encoded data removed]",
      "text/plain": [
       "<Figure size 432x288 with 1 Axes>"
      ]
     },
     "metadata": {
      "needs_background": "light"
     },
     "output_type": "display_data"
    }
   ],
   "source": [
    "X = np.array(train_Lines)\n",
    "y = np.array(Y)\n",
    "\n",
    "ipca = IncrementalPCA(n_components=2, batch_size=10)\n",
    "ipca.fit(X)\n",
    "\n",
    "transformed = ipca.transform(X) \n",
    "\n",
    "x1 = []\n",
    "y1 = []\n",
    "x2 = []\n",
    "y2 = []\n",
    "\n",
    "for i in range(len(transformed)):\n",
    "    if y[i] == 1:\n",
    "        x1.append(transformed[i][0])\n",
    "        y1.append(transformed[i][1])\n",
    "    elif y[i] == -1:\n",
    "        x2.append(transformed[i][0])\n",
    "        y2.append(transformed[i][1])\n",
    "plt.scatter(x1,y1, color='green')\n",
    "plt.scatter(x2,y2, color='yellow')\n",
    "plt.show()\n",
    "plt.scatter(x1,y1, color='green')\n",
    "plt.show()\n",
    "plt.scatter(x2,y2, color='yellow')\n",
    "plt.show()"
   ]
  },
  {
   "cell_type": "markdown",
   "metadata": {},
   "source": [
    "Part 4.2 <br>\n",
    "As can be seen from the graph 95% of the variance is explained by 6 dimentions"
   ]
  },
  {
   "cell_type": "code",
   "execution_count": 12,
   "metadata": {},
   "outputs": [
    {
     "data": {
      "image/png": "[encoded data removed]",
      "text/plain": [
       "<Figure size 432x288 with 1 Axes>"
      ]
     },
     "metadata": {
      "needs_background": "light"
     },
     "output_type": "display_data"
    }
   ],
   "source": [
    "\n",
    "scaler = MinMaxScaler(feature_range=[0, 1])\n",
    "data_rescaled = scaler.fit_transform(X[1:, 0:15])\n",
    "\n",
    "\n",
    "#Fitting the PCA algorithm with our Data\n",
    "pca = PCA().fit(data_rescaled)\n",
    "#Plotting the Cumulative Summation of the Explained Variance\n",
    "plt.figure()\n",
    "plt.plot(np.cumsum(pca.explained_variance_ratio_))\n",
    "plt.xlabel('Number of Components')\n",
    "plt.ylabel('Variance (%)') #for each component\n",
    "plt.title('Training Data Explained Variance')\n",
    "plt.show()\n"
   ]
  },
  {
   "cell_type": "markdown",
   "metadata": {},
   "source": [
    "Part 4.3 <br>\n",
    "Using a 6 dimentional approximation of the data as this was shown to explain 95% of the variance. This also trains two classifiers where I have also perform hyperparameter optimization, using a five fold stratified data splitting."
   ]
  },
  {
   "cell_type": "code",
   "execution_count": 13,
   "metadata": {},
   "outputs": [
    {
     "name": "stdout",
     "output_type": "stream",
     "text": [
      "Kernalized SVM\n",
      "Mean accuracy :  0.7933333333333333\n",
      "Mean AUC_ROC :  0.7888066446740599\n",
      "Mean AUC_PR :  0.7911658482109445\n",
      "XGBoost\n",
      "Mean accuracy :  0.7946666666666666\n",
      "Mean AUC_ROC :  0.79168847669233\n",
      "Mean AUC_PR :  0.7933800995681839\n"
     ]
    }
   ],
   "source": [
    "\n",
    "ipca = IncrementalPCA(n_components=6, batch_size=8)\n",
    "ipca.fit(X)\n",
    "\n",
    "transformed = ipca.transform(X) \n",
    "\n",
    "y = np.array(Y)\n",
    "\n",
    "skf = StratifiedKFold(n_splits=5)\n",
    "skf.get_n_splits(transformed, y)\n",
    "\n",
    "ac = []\n",
    "ROC = []\n",
    "PR = []\n",
    "print('Kernalized SVM')\n",
    "for train_index, test_index in skf.split(transformed, y):\n",
    "    X_train, X_test = X[train_index], X[test_index]\n",
    "    y_train, y_test = y[train_index], y[test_index]\n",
    "    \n",
    "    model = SVC(C=2.0, kernel='rbf', degree=3, gamma='scale', coef0=0.0, shrinking=True, probability=False, tol=0.001, \n",
    "                cache_size=200, class_weight=None, verbose=False, max_iter=-1, decision_function_shape='ovr', \n",
    "                break_ties=False, random_state=None)\n",
    "    model.fit(X_train, y_train)\n",
    "    x = model.score(X_test,y_test)\n",
    "    ac.append(x)\n",
    "    pred = model.predict(X_test)\n",
    "    # calculate scores\n",
    "    auc_roc = roc_auc_score(y_test, pred)\n",
    "                \n",
    "    precision, recall, _ = precision_recall_curve(y_test, pred)\n",
    "    \n",
    "    ROC.append(auc_roc)\n",
    "    PR.append(auc(recall, precision))\n",
    "    \n",
    "print('Mean accuracy : ', np.mean(ac))\n",
    "print('Mean AUC_ROC : ', np.mean(ROC))\n",
    "print('Mean AUC_PR : ', np.mean(PR))\n",
    "ac = []\n",
    "ROC = []\n",
    "PR = []\n",
    "print('XGBoost')\n",
    "for train_index, test_index in skf.split(transformed, y):\n",
    "    X_train, X_test = X[train_index], X[test_index]\n",
    "    y_train, y_test = y[train_index], y[test_index]\n",
    "    \n",
    "    model = xgb.XGBClassifier()#learning_rate=0.1, max_depth=100, subsample=0.20, colsample_bytree=0.25, n_estimators=100)\n",
    "    model.fit(X_train, y_train)\n",
    "    x = model.score(X_test,y_test)\n",
    "    ac.append(x)\n",
    "    \n",
    "    pred = model.predict(X_test)\n",
    "    # calculate scores\n",
    "    auc_roc = roc_auc_score(y_test, pred)\n",
    "\n",
    "    precision, recall, _ = precision_recall_curve(y_test, pred)\n",
    "    \n",
    "    ROC.append(auc_roc)\n",
    "    PR.append(auc(recall, precision))\n",
    "    \n",
    "print('Mean accuracy : ', np.mean(ac))\n",
    "print('Mean AUC_ROC : ', np.mean(ROC))\n",
    "print('Mean AUC_PR : ', np.mean(PR))"
   ]
  },
  {
   "cell_type": "markdown",
   "metadata": {},
   "source": [
    "## Part 5"
   ]
  },
  {
   "cell_type": "code",
   "execution_count": null,
   "metadata": {},
   "outputs": [],
   "source": []
  },
  {
   "cell_type": "markdown",
   "metadata": {},
   "source": [
    "Task 5 <Br>\n",
    "For this part I have built a classifier based on the top preforming classifiers in the previous parts of this assignment, I have also built a neural network based on the pretrained VGG16 model that has been trained on the ImageNet data base. I have then gone on to fine tune the model on the training data allowing the last 8 layers of the model to be trainable. I have added four trainable layers which classify the images into two categories.\n",
    "    \n",
    "<br>\n",
    "I have benched marked the performance against a pipeline made from the top 5 classifiers from the work in previous parts that shows an accuracy of around 79%. When doing the same type of training data split after training a neural network with 10 epochs the accuracy was 84%, and 86% with 15 epochs reducing the training data size to 50% and 50% testing an accuracy of 79.33% when running 5 epochs. It's possible to get similar results using fewer epochs and thus making the code faster but this is out weighted by the improved accuracy.\n",
    "    \n",
    "<br> \n",
    "I believe the increase in run time of using this method is justified by the 7% improvement in the accuracy of the classifier.\n",
    "    \n",
    "<br> \n",
    "When training my classifier that I used to generate my predictions file I ran the network for 15 epochs on all of the available training data. A faster run time could be achieved by using fewer epochs with accuracies still higher than the methods used in the previous parts of this assignment, however as this part is to do with the making of the most accurate classifier, hence I feel justified in using a slower method.\n"
   ]
  },
  {
   "cell_type": "markdown",
   "metadata": {},
   "source": [
    "Testing a model based on a combination of the best classifiers."
   ]
  },
  {
   "cell_type": "code",
   "execution_count": 81,
   "metadata": {
    "scrolled": true
   },
   "outputs": [
    {
     "name": "stdout",
     "output_type": "stream",
     "text": [
      "StratifiedKFold(n_splits=5, random_state=None, shuffle=False)\n",
      "Training KNN\n",
      "0.7826666666666666\n",
      "Training XGBoost\n",
      "0.7746666666666666\n",
      "ada boost\n",
      "0.6853333333333333\n",
      "Training Forest\n",
      "0.796\n",
      "Kernalized SVM\n",
      "0.7893333333333333\n",
      "My classifier : 0.7893333333333333\n",
      "knn 0.7826666666666666\n",
      "xg 0.7746666666666666\n",
      "ada 0.6853333333333333\n",
      "forest 0.796\n",
      "svm 0.7893333333333333\n",
      "My 0.7893333333333333\n"
     ]
    }
   ],
   "source": [
    "X = np.array(train_Lines)\n",
    "y = []\n",
    "for i in range(len(Y)):\n",
    "    if Y[i] == -1:\n",
    "        y.append(0)\n",
    "    else:\n",
    "        y.append(1)\n",
    "y = np.array(y)\n",
    "\n",
    "X_train, X_test, y_train, y_test = train_test_split(X, y, test_size=0.25, random_state=42)\n",
    "\n",
    "knn_ = []\n",
    "xg_ = []\n",
    "g_ = []\n",
    "f_ = []\n",
    "svm_ = []\n",
    "my_=[]\n",
    "\n",
    "    \n",
    "print('Training KNN')\n",
    "knn = KNeighborsClassifier(n_neighbors=35, metric='euclidean')\n",
    "knn.fit(X_train, y_train)\n",
    "KNN = knn.predict(X_test)\n",
    "x=knn.score(X_test,y_test)\n",
    "knn_.append(x)\n",
    "print(x)\n",
    "\n",
    "print('Training XGBoost')\n",
    "xgn = xgb.XGBClassifier()\n",
    "xgn.fit(X_train,y_train)\n",
    "XGN = xgn.predict(X_test)\n",
    "x=xgn.score(X_test,y_test)\n",
    "xg_.append(x)\n",
    "print(x)\n",
    "\n",
    "print('ada boost')\n",
    "clf = AdaBoostClassifier(base_estimator=None, n_estimators=34, learning_rate=1.0, algorithm='SAMME.R',\n",
    "                             random_state=None)\n",
    "clf.fit(X_train, y_train)\n",
    "GAUSS = clf.predict(X_test)\n",
    "x=clf.score(X_test,y_test)\n",
    "g_.append(x)\n",
    "print( x)\n",
    "\n",
    "print('Training Forest')\n",
    "clf = RandomForestClassifier(n_estimators=100, criterion='gini', max_depth=None, min_samples_split=2, \n",
    "                                 min_samples_leaf=1, min_weight_fraction_leaf=0.0, max_features='auto', \n",
    "                                 max_leaf_nodes=None, min_impurity_decrease=0.0, min_impurity_split=None, bootstrap=True, \n",
    "                                 oob_score=False, n_jobs=None, random_state=None, verbose=0, warm_start=False, \n",
    "                                 class_weight=None, ccp_alpha=0.0, max_samples=None)\n",
    "clf.fit(X_train,y_train)\n",
    "FOREST = clf.predict(X_test)\n",
    "x=clf.score(X_test,y_test)\n",
    "f_.append(x)\n",
    "print(x)\n",
    "    \n",
    "    \n",
    "print('Kernalized SVM')\n",
    "model = SVC(kernel='rbf') \n",
    "model.fit(X_train, y_train)\n",
    "SVM = model.predict(X_test)\n",
    "x=model.score(X_test,y_test)\n",
    "svm_.append(x)\n",
    "print(x)\n",
    "\n",
    "\n",
    "predictions = []    \n",
    "for i in range(len(KNN)):\n",
    "    pred = np.mean(KNN[i] + XGN[i] + GAUSS[i] + SVM[i] + FOREST[i])\n",
    "    if pred < 2.5:\n",
    "        predictions.append(0)\n",
    "    else:\n",
    "        predictions.append(1)\n",
    "\n",
    "\n",
    "a = 0\n",
    "for i in range(len(predictions)):\n",
    "    if predictions[i] == y_test[i]:\n",
    "        a +=1 \n",
    "    my_.append(a/len(y_test))\n",
    "    \n",
    "print('knn accuracy',np.mean(knn_))\n",
    "print('xg accuracy', np.mean(xg_))\n",
    "print('ada accuracy', np.mean(g_))\n",
    "print('forest accuracy', np.mean(f_))\n",
    "print('svm accuracy',np.mean(svm_))\n",
    "print('My accuracy',np.mean(my_))"
   ]
  },
  {
   "cell_type": "markdown",
   "metadata": {},
   "source": [
    "Developing the neural network based on the VGG16 model. This first part processes the images for use in the model."
   ]
  },
  {
   "cell_type": "code",
   "execution_count": 36,
   "metadata": {},
   "outputs": [],
   "source": [
    "#Loads the data into lists \n",
    "X = np.array(train_Lines)\n",
    "X_test = np.array(test_Lines)\n",
    "y = []\n",
    "for i in range(len(Y)):\n",
    "    if Y[i] == -1:\n",
    "        y.append(0)\n",
    "    else:\n",
    "        y.append(1)\n",
    "y_train = np.array(y)\n",
    "\n",
    "\n",
    "# preprocess and reshape data for the model\n",
    "Images = []\n",
    "for i in range(len(X)):\n",
    "    image = X[i]\n",
    "    image = image.reshape(28,28)\n",
    "    image = cv2.resize(image.astype('uint8'), (56,56), interpolation = cv2.INTER_AREA)\n",
    "    img = cv2.cvtColor(image, cv2.COLOR_GRAY2RGB)\n",
    "    image = img.reshape(( 56, 56,3))\n",
    "    # prepare the image for the VGG model\n",
    "    Images.append(preprocess_input(image))\n",
    "Images =np.array(Images).astype('float')/255"
   ]
  },
  {
   "cell_type": "markdown",
   "metadata": {},
   "source": [
    "Creates and compiles the neural network."
   ]
  },
  {
   "cell_type": "code",
   "execution_count": 39,
   "metadata": {},
   "outputs": [
    {
     "name": "stdout",
     "output_type": "stream",
     "text": [
      "Model: \"sequential_4\"\n",
      "_________________________________________________________________\n",
      "Layer (type)                 Output Shape              Param #   \n",
      "=================================================================\n",
      "vgg16 (Model)                (None, 1, 1, 512)         14714688  \n",
      "_________________________________________________________________\n",
      "flatten_4 (Flatten)          (None, 512)               0         \n",
      "_________________________________________________________________\n",
      "dense_7 (Dense)              (None, 1024)              525312    \n",
      "_________________________________________________________________\n",
      "dropout_4 (Dropout)          (None, 1024)              0         \n",
      "_________________________________________________________________\n",
      "dense_8 (Dense)              (None, 2)                 2050      \n",
      "=================================================================\n",
      "Total params: 15,242,050\n",
      "Trainable params: 15,242,050\n",
      "Non-trainable params: 0\n",
      "_________________________________________________________________\n"
     ]
    }
   ],
   "source": [
    "#Load the VGG model using the pretrained weights\n",
    "vgg_conv = VGG16(weights='imagenet', include_top=False, input_shape=(56, 56,3))\n",
    "\n",
    "# Create the model\n",
    "model = models.Sequential()\n",
    " \n",
    "# Add the vgg convolutional base model\n",
    "model.add(vgg_conv)\n",
    " \n",
    "# Add new layers\n",
    "model.add(layers.Flatten())\n",
    "model.add(layers.Dense(1024, activation='relu'))\n",
    "model.add(layers.Dropout(0.4))\n",
    "model.add(layers.Dense(2, activation='softmax'))\n",
    " \n",
    "# Show a summary of the model. Check the number of trainable parameters\n",
    "model.summary()\n",
    "\n",
    "#only training 4 layers due to the minimal training data\n",
    "for layer in model.layers[:-8]:\n",
    "    layer.trainable = False\n",
    "\n",
    "# create model\n",
    "model.compile(loss='categorical_crossentropy',\n",
    "              optimizer=optimizers.SGD(lr=1e-3, momentum=0.9),\n",
    "              metrics=['accuracy'])\n"
   ]
  },
  {
   "cell_type": "markdown",
   "metadata": {},
   "source": [
    "This part of the code creates converts the training labels into vectors for use in the model and trains the model on 15 epochs with a batch size of 40."
   ]
  },
  {
   "cell_type": "code",
   "execution_count": 40,
   "metadata": {
    "scrolled": true
   },
   "outputs": [
    {
     "name": "stdout",
     "output_type": "stream",
     "text": [
      "3000\n",
      "Epoch 1/15\n",
      "  40/3000 [..............................] - ETA: 4:46 - loss: 0.8087 - accuracy: 0.6000"
     ]
    },
    {
     "ename": "KeyboardInterrupt",
     "evalue": "",
     "output_type": "error",
     "traceback": [
      "\u001b[1;31m---------------------------------------------------------------------------\u001b[0m",
      "\u001b[1;31mKeyboardInterrupt\u001b[0m                         Traceback (most recent call last)",
      "\u001b[1;32m<ipython-input-40-58a788a759d3>\u001b[0m in \u001b[0;36m<module>\u001b[1;34m\u001b[0m\n\u001b[0;32m     27\u001b[0m \u001b[1;33m\u001b[0m\u001b[0m\n\u001b[0;32m     28\u001b[0m \u001b[1;31m#Trains the model on the training data\u001b[0m\u001b[1;33m\u001b[0m\u001b[1;33m\u001b[0m\u001b[1;33m\u001b[0m\u001b[0m\n\u001b[1;32m---> 29\u001b[1;33m \u001b[0mmodel\u001b[0m\u001b[1;33m.\u001b[0m\u001b[0mfit\u001b[0m\u001b[1;33m(\u001b[0m\u001b[0mX_train\u001b[0m\u001b[1;33m,\u001b[0m \u001b[0mnp\u001b[0m\u001b[1;33m.\u001b[0m\u001b[0marray\u001b[0m\u001b[1;33m(\u001b[0m\u001b[0my_train\u001b[0m\u001b[1;33m)\u001b[0m\u001b[1;33m,\u001b[0m \u001b[0mepochs\u001b[0m\u001b[1;33m=\u001b[0m\u001b[1;36m15\u001b[0m\u001b[1;33m,\u001b[0m\u001b[0mbatch_size\u001b[0m\u001b[1;33m=\u001b[0m\u001b[1;36m40\u001b[0m \u001b[1;33m,\u001b[0m\u001b[0mverbose\u001b[0m \u001b[1;33m=\u001b[0m \u001b[1;36m1\u001b[0m\u001b[1;33m)\u001b[0m\u001b[1;33m\u001b[0m\u001b[1;33m\u001b[0m\u001b[0m\n\u001b[0m\u001b[0;32m     30\u001b[0m \u001b[1;33m\u001b[0m\u001b[0m\n\u001b[0;32m     31\u001b[0m \u001b[1;33m\u001b[0m\u001b[0m\n",
      "\u001b[1;32mc:\\python 3.7\\lib\\site-packages\\keras\\engine\\training.py\u001b[0m in \u001b[0;36mfit\u001b[1;34m(self, x, y, batch_size, epochs, verbose, callbacks, validation_split, validation_data, shuffle, class_weight, sample_weight, initial_epoch, steps_per_epoch, validation_steps, validation_freq, max_queue_size, workers, use_multiprocessing, **kwargs)\u001b[0m\n\u001b[0;32m   1237\u001b[0m                                         \u001b[0msteps_per_epoch\u001b[0m\u001b[1;33m=\u001b[0m\u001b[0msteps_per_epoch\u001b[0m\u001b[1;33m,\u001b[0m\u001b[1;33m\u001b[0m\u001b[1;33m\u001b[0m\u001b[0m\n\u001b[0;32m   1238\u001b[0m                                         \u001b[0mvalidation_steps\u001b[0m\u001b[1;33m=\u001b[0m\u001b[0mvalidation_steps\u001b[0m\u001b[1;33m,\u001b[0m\u001b[1;33m\u001b[0m\u001b[1;33m\u001b[0m\u001b[0m\n\u001b[1;32m-> 1239\u001b[1;33m                                         validation_freq=validation_freq)\n\u001b[0m\u001b[0;32m   1240\u001b[0m \u001b[1;33m\u001b[0m\u001b[0m\n\u001b[0;32m   1241\u001b[0m     def evaluate(self,\n",
      "\u001b[1;32mc:\\python 3.7\\lib\\site-packages\\keras\\engine\\training_arrays.py\u001b[0m in \u001b[0;36mfit_loop\u001b[1;34m(model, fit_function, fit_inputs, out_labels, batch_size, epochs, verbose, callbacks, val_function, val_inputs, shuffle, initial_epoch, steps_per_epoch, validation_steps, validation_freq)\u001b[0m\n\u001b[0;32m    194\u001b[0m                     \u001b[0mins_batch\u001b[0m\u001b[1;33m[\u001b[0m\u001b[0mi\u001b[0m\u001b[1;33m]\u001b[0m \u001b[1;33m=\u001b[0m \u001b[0mins_batch\u001b[0m\u001b[1;33m[\u001b[0m\u001b[0mi\u001b[0m\u001b[1;33m]\u001b[0m\u001b[1;33m.\u001b[0m\u001b[0mtoarray\u001b[0m\u001b[1;33m(\u001b[0m\u001b[1;33m)\u001b[0m\u001b[1;33m\u001b[0m\u001b[1;33m\u001b[0m\u001b[0m\n\u001b[0;32m    195\u001b[0m \u001b[1;33m\u001b[0m\u001b[0m\n\u001b[1;32m--> 196\u001b[1;33m                 \u001b[0mouts\u001b[0m \u001b[1;33m=\u001b[0m \u001b[0mfit_function\u001b[0m\u001b[1;33m(\u001b[0m\u001b[0mins_batch\u001b[0m\u001b[1;33m)\u001b[0m\u001b[1;33m\u001b[0m\u001b[1;33m\u001b[0m\u001b[0m\n\u001b[0m\u001b[0;32m    197\u001b[0m                 \u001b[0mouts\u001b[0m \u001b[1;33m=\u001b[0m \u001b[0mto_list\u001b[0m\u001b[1;33m(\u001b[0m\u001b[0mouts\u001b[0m\u001b[1;33m)\u001b[0m\u001b[1;33m\u001b[0m\u001b[1;33m\u001b[0m\u001b[0m\n\u001b[0;32m    198\u001b[0m                 \u001b[1;32mfor\u001b[0m \u001b[0ml\u001b[0m\u001b[1;33m,\u001b[0m \u001b[0mo\u001b[0m \u001b[1;32min\u001b[0m \u001b[0mzip\u001b[0m\u001b[1;33m(\u001b[0m\u001b[0mout_labels\u001b[0m\u001b[1;33m,\u001b[0m \u001b[0mouts\u001b[0m\u001b[1;33m)\u001b[0m\u001b[1;33m:\u001b[0m\u001b[1;33m\u001b[0m\u001b[1;33m\u001b[0m\u001b[0m\n",
      "\u001b[1;32mc:\\python 3.7\\lib\\site-packages\\tensorflow_core\\python\\keras\\backend.py\u001b[0m in \u001b[0;36m__call__\u001b[1;34m(self, inputs)\u001b[0m\n\u001b[0;32m   3725\u001b[0m         \u001b[0mvalue\u001b[0m \u001b[1;33m=\u001b[0m \u001b[0mmath_ops\u001b[0m\u001b[1;33m.\u001b[0m\u001b[0mcast\u001b[0m\u001b[1;33m(\u001b[0m\u001b[0mvalue\u001b[0m\u001b[1;33m,\u001b[0m \u001b[0mtensor\u001b[0m\u001b[1;33m.\u001b[0m\u001b[0mdtype\u001b[0m\u001b[1;33m)\u001b[0m\u001b[1;33m\u001b[0m\u001b[1;33m\u001b[0m\u001b[0m\n\u001b[0;32m   3726\u001b[0m       \u001b[0mconverted_inputs\u001b[0m\u001b[1;33m.\u001b[0m\u001b[0mappend\u001b[0m\u001b[1;33m(\u001b[0m\u001b[0mvalue\u001b[0m\u001b[1;33m)\u001b[0m\u001b[1;33m\u001b[0m\u001b[1;33m\u001b[0m\u001b[0m\n\u001b[1;32m-> 3727\u001b[1;33m     \u001b[0moutputs\u001b[0m \u001b[1;33m=\u001b[0m \u001b[0mself\u001b[0m\u001b[1;33m.\u001b[0m\u001b[0m_graph_fn\u001b[0m\u001b[1;33m(\u001b[0m\u001b[1;33m*\u001b[0m\u001b[0mconverted_inputs\u001b[0m\u001b[1;33m)\u001b[0m\u001b[1;33m\u001b[0m\u001b[1;33m\u001b[0m\u001b[0m\n\u001b[0m\u001b[0;32m   3728\u001b[0m \u001b[1;33m\u001b[0m\u001b[0m\n\u001b[0;32m   3729\u001b[0m     \u001b[1;31m# EagerTensor.numpy() will often make a copy to ensure memory safety.\u001b[0m\u001b[1;33m\u001b[0m\u001b[1;33m\u001b[0m\u001b[1;33m\u001b[0m\u001b[0m\n",
      "\u001b[1;32mc:\\python 3.7\\lib\\site-packages\\tensorflow_core\\python\\eager\\function.py\u001b[0m in \u001b[0;36m__call__\u001b[1;34m(self, *args, **kwargs)\u001b[0m\n\u001b[0;32m   1549\u001b[0m       \u001b[0mTypeError\u001b[0m\u001b[1;33m:\u001b[0m \u001b[0mFor\u001b[0m \u001b[0minvalid\u001b[0m \u001b[0mpositional\u001b[0m\u001b[1;33m/\u001b[0m\u001b[0mkeyword\u001b[0m \u001b[0margument\u001b[0m \u001b[0mcombinations\u001b[0m\u001b[1;33m.\u001b[0m\u001b[1;33m\u001b[0m\u001b[1;33m\u001b[0m\u001b[0m\n\u001b[0;32m   1550\u001b[0m     \"\"\"\n\u001b[1;32m-> 1551\u001b[1;33m     \u001b[1;32mreturn\u001b[0m \u001b[0mself\u001b[0m\u001b[1;33m.\u001b[0m\u001b[0m_call_impl\u001b[0m\u001b[1;33m(\u001b[0m\u001b[0margs\u001b[0m\u001b[1;33m,\u001b[0m \u001b[0mkwargs\u001b[0m\u001b[1;33m)\u001b[0m\u001b[1;33m\u001b[0m\u001b[1;33m\u001b[0m\u001b[0m\n\u001b[0m\u001b[0;32m   1552\u001b[0m \u001b[1;33m\u001b[0m\u001b[0m\n\u001b[0;32m   1553\u001b[0m   \u001b[1;32mdef\u001b[0m \u001b[0m_call_impl\u001b[0m\u001b[1;33m(\u001b[0m\u001b[0mself\u001b[0m\u001b[1;33m,\u001b[0m \u001b[0margs\u001b[0m\u001b[1;33m,\u001b[0m \u001b[0mkwargs\u001b[0m\u001b[1;33m,\u001b[0m \u001b[0mcancellation_manager\u001b[0m\u001b[1;33m=\u001b[0m\u001b[1;32mNone\u001b[0m\u001b[1;33m)\u001b[0m\u001b[1;33m:\u001b[0m\u001b[1;33m\u001b[0m\u001b[1;33m\u001b[0m\u001b[0m\n",
      "\u001b[1;32mc:\\python 3.7\\lib\\site-packages\\tensorflow_core\\python\\eager\\function.py\u001b[0m in \u001b[0;36m_call_impl\u001b[1;34m(self, args, kwargs, cancellation_manager)\u001b[0m\n\u001b[0;32m   1589\u001b[0m       raise TypeError(\"Keyword arguments {} unknown. Expected {}.\".format(\n\u001b[0;32m   1590\u001b[0m           list(kwargs.keys()), list(self._arg_keywords)))\n\u001b[1;32m-> 1591\u001b[1;33m     \u001b[1;32mreturn\u001b[0m \u001b[0mself\u001b[0m\u001b[1;33m.\u001b[0m\u001b[0m_call_flat\u001b[0m\u001b[1;33m(\u001b[0m\u001b[0margs\u001b[0m\u001b[1;33m,\u001b[0m \u001b[0mself\u001b[0m\u001b[1;33m.\u001b[0m\u001b[0mcaptured_inputs\u001b[0m\u001b[1;33m,\u001b[0m \u001b[0mcancellation_manager\u001b[0m\u001b[1;33m)\u001b[0m\u001b[1;33m\u001b[0m\u001b[1;33m\u001b[0m\u001b[0m\n\u001b[0m\u001b[0;32m   1592\u001b[0m \u001b[1;33m\u001b[0m\u001b[0m\n\u001b[0;32m   1593\u001b[0m   \u001b[1;32mdef\u001b[0m \u001b[0m_filtered_call\u001b[0m\u001b[1;33m(\u001b[0m\u001b[0mself\u001b[0m\u001b[1;33m,\u001b[0m \u001b[0margs\u001b[0m\u001b[1;33m,\u001b[0m \u001b[0mkwargs\u001b[0m\u001b[1;33m)\u001b[0m\u001b[1;33m:\u001b[0m\u001b[1;33m\u001b[0m\u001b[1;33m\u001b[0m\u001b[0m\n",
      "\u001b[1;32mc:\\python 3.7\\lib\\site-packages\\tensorflow_core\\python\\eager\\function.py\u001b[0m in \u001b[0;36m_call_flat\u001b[1;34m(self, args, captured_inputs, cancellation_manager)\u001b[0m\n\u001b[0;32m   1690\u001b[0m       \u001b[1;31m# No tape is watching; skip to running the function.\u001b[0m\u001b[1;33m\u001b[0m\u001b[1;33m\u001b[0m\u001b[1;33m\u001b[0m\u001b[0m\n\u001b[0;32m   1691\u001b[0m       return self._build_call_outputs(self._inference_function.call(\n\u001b[1;32m-> 1692\u001b[1;33m           ctx, args, cancellation_manager=cancellation_manager))\n\u001b[0m\u001b[0;32m   1693\u001b[0m     forward_backward = self._select_forward_and_backward_functions(\n\u001b[0;32m   1694\u001b[0m         \u001b[0margs\u001b[0m\u001b[1;33m,\u001b[0m\u001b[1;33m\u001b[0m\u001b[1;33m\u001b[0m\u001b[0m\n",
      "\u001b[1;32mc:\\python 3.7\\lib\\site-packages\\tensorflow_core\\python\\eager\\function.py\u001b[0m in \u001b[0;36mcall\u001b[1;34m(self, ctx, args, cancellation_manager)\u001b[0m\n\u001b[0;32m    543\u001b[0m               \u001b[0minputs\u001b[0m\u001b[1;33m=\u001b[0m\u001b[0margs\u001b[0m\u001b[1;33m,\u001b[0m\u001b[1;33m\u001b[0m\u001b[1;33m\u001b[0m\u001b[0m\n\u001b[0;32m    544\u001b[0m               \u001b[0mattrs\u001b[0m\u001b[1;33m=\u001b[0m\u001b[1;33m(\u001b[0m\u001b[1;34m\"executor_type\"\u001b[0m\u001b[1;33m,\u001b[0m \u001b[0mexecutor_type\u001b[0m\u001b[1;33m,\u001b[0m \u001b[1;34m\"config_proto\"\u001b[0m\u001b[1;33m,\u001b[0m \u001b[0mconfig\u001b[0m\u001b[1;33m)\u001b[0m\u001b[1;33m,\u001b[0m\u001b[1;33m\u001b[0m\u001b[1;33m\u001b[0m\u001b[0m\n\u001b[1;32m--> 545\u001b[1;33m               ctx=ctx)\n\u001b[0m\u001b[0;32m    546\u001b[0m         \u001b[1;32melse\u001b[0m\u001b[1;33m:\u001b[0m\u001b[1;33m\u001b[0m\u001b[1;33m\u001b[0m\u001b[0m\n\u001b[0;32m    547\u001b[0m           outputs = execute.execute_with_cancellation(\n",
      "\u001b[1;32mc:\\python 3.7\\lib\\site-packages\\tensorflow_core\\python\\eager\\execute.py\u001b[0m in \u001b[0;36mquick_execute\u001b[1;34m(op_name, num_outputs, inputs, attrs, ctx, name)\u001b[0m\n\u001b[0;32m     59\u001b[0m     tensors = pywrap_tensorflow.TFE_Py_Execute(ctx._handle, device_name,\n\u001b[0;32m     60\u001b[0m                                                \u001b[0mop_name\u001b[0m\u001b[1;33m,\u001b[0m \u001b[0minputs\u001b[0m\u001b[1;33m,\u001b[0m \u001b[0mattrs\u001b[0m\u001b[1;33m,\u001b[0m\u001b[1;33m\u001b[0m\u001b[1;33m\u001b[0m\u001b[0m\n\u001b[1;32m---> 61\u001b[1;33m                                                num_outputs)\n\u001b[0m\u001b[0;32m     62\u001b[0m   \u001b[1;32mexcept\u001b[0m \u001b[0mcore\u001b[0m\u001b[1;33m.\u001b[0m\u001b[0m_NotOkStatusException\u001b[0m \u001b[1;32mas\u001b[0m \u001b[0me\u001b[0m\u001b[1;33m:\u001b[0m\u001b[1;33m\u001b[0m\u001b[1;33m\u001b[0m\u001b[0m\n\u001b[0;32m     63\u001b[0m     \u001b[1;32mif\u001b[0m \u001b[0mname\u001b[0m \u001b[1;32mis\u001b[0m \u001b[1;32mnot\u001b[0m \u001b[1;32mNone\u001b[0m\u001b[1;33m:\u001b[0m\u001b[1;33m\u001b[0m\u001b[1;33m\u001b[0m\u001b[0m\n",
      "\u001b[1;31mKeyboardInterrupt\u001b[0m: "
     ]
    }
   ],
   "source": [
    "#creates a one hot encoded vectors\n",
    "y = []\n",
    "for i in range(len(Y)):\n",
    "    if Y[i] == -1:\n",
    "        y.append(0)\n",
    "    else:\n",
    "        y.append(1)\n",
    "y = np.array(y)\n",
    "print(len(y))\n",
    "Yi = []\n",
    "for i in range(len(X)):\n",
    "    x = np.zeros(2)\n",
    "    if y[i] == 1:\n",
    "        x[0] = 1\n",
    "    elif y[i] == 0:\n",
    "        x[1] = 1\n",
    "    Yi.append(np.array(x))\n",
    "    \n",
    "from sklearn.model_selection import train_test_split\n",
    "\n",
    "X_train, X_test, y_train, y_test = train_test_split(Images, Yi, test_size=0.25, random_state=42)\n",
    "\n",
    "#Coment for testing perposes\n",
    "X_train = Images \n",
    "y_train = Yi\n",
    "\n",
    "\n",
    "#Trains the model on the training data\n",
    "model.fit(X_train, np.array(y_train), epochs=15,batch_size=40 ,verbose = 1)\n",
    "\n",
    "\n",
    "#Uncoment for testing perposes\n",
    "\"\"\"\n",
    "prediction = model.predict(X_test)\n",
    "p=[]\n",
    "for i in range(len(prediction)):\n",
    "    if prediction[i][0] > prediction[i][1]:\n",
    "        p.append(1)\n",
    "    else:\n",
    "        p.append(0)\n",
    "        \n",
    "qqw=[]\n",
    "for i in range(len(y_test)):\n",
    "    if y_test[i][0] > y_test[i][1]:\n",
    "        qqw.append(1)\n",
    "    else:\n",
    "        qqw.append(0) \n",
    "a=0\n",
    "print(len(p),len(qqw))\n",
    "for i in range(len(p)):\n",
    "    if p[i] == qqw[i]:\n",
    "        a+=1\n",
    "print(a/len(p))\n",
    "\"\"\""
   ]
  },
  {
   "cell_type": "markdown",
   "metadata": {},
   "source": [
    "Preprocesses the testing images, and makes the prediction.\n"
   ]
  },
  {
   "cell_type": "code",
   "execution_count": 10,
   "metadata": {},
   "outputs": [],
   "source": [
    "X=np.array(test_Lines)\n",
    "Images = []\n",
    "for i in range(len(X)):\n",
    "    image = X[i]\n",
    "    image = image.reshape(28,28)\n",
    "    image = cv2.resize(image.astype('uint8'), (56,56), interpolation = cv2.INTER_AREA)\n",
    "    img = cv2.cvtColor(image, cv2.COLOR_GRAY2RGB)\n",
    "    image = img.reshape(( 56, 56,3))\n",
    "    # prepare the image for the VGG model\n",
    "    Images.append(preprocess_input(image))\n",
    "Images =np.array(Images).astype('float')/255"
   ]
  },
  {
   "cell_type": "code",
   "execution_count": 11,
   "metadata": {},
   "outputs": [],
   "source": [
    "#Predicts what the image is.\n",
    "prediction = model.predict(Images)        "
   ]
  },
  {
   "cell_type": "markdown",
   "metadata": {},
   "source": [
    "This code decodes the predictions and writes the prediction in to a file "
   ]
  },
  {
   "cell_type": "code",
   "execution_count": 13,
   "metadata": {
    "scrolled": true
   },
   "outputs": [
    {
     "name": "stdout",
     "output_type": "stream",
     "text": [
      "5000\n"
     ]
    }
   ],
   "source": [
    "file = open('u1604827.csv', 'w+')\n",
    "\n",
    "pred=[]\n",
    "for i in range(len(prediction)):\n",
    "    #Picks the larger of the two values for the predictions i.e [0.8, 0.2] becomes a one and \n",
    "    if prediction[i][0] > prediction[i][1]:\n",
    "        pred.append(1)\n",
    "        file.write('1\\n')\n",
    "    else:\n",
    "        pred.append(0) \n",
    "        file.write('0\\n')\n",
    "print(len(pred))        \n"
   ]
  }
 ],
 "metadata": {
  "kernelspec": {
   "display_name": "Python 3",
   "language": "python",
   "name": "python3"
  },
  "language_info": {
   "codemirror_mode": {
    "name": "ipython",
    "version": 3
   },
   "file_extension": ".py",
   "mimetype": "text/x-python",
   "name": "python",
   "nbconvert_exporter": "python",
   "pygments_lexer": "ipython3",
   "version": "3.7.6"
  }
 },
 "nbformat": 4,
 "nbformat_minor": 4
}
